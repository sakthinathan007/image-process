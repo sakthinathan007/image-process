{
 "cells": [
  {
   "cell_type": "code",
   "execution_count": 1,
   "id": "32bbb689",
   "metadata": {},
   "outputs": [],
   "source": [
    "import cv2\n",
    "import numpy as nu"
   ]
  },
  {
   "cell_type": "markdown",
   "id": "00532d9d",
   "metadata": {},
   "source": [
    "# Video read"
   ]
  },
  {
   "cell_type": "code",
   "execution_count": 2,
   "id": "9d74b356",
   "metadata": {},
   "outputs": [],
   "source": [
    "view = cv2.VideoCapture(\"videoplayback.mp4\")"
   ]
  },
  {
   "cell_type": "markdown",
   "id": "033db167",
   "metadata": {},
   "source": [
    "# Display the video"
   ]
  },
  {
   "cell_type": "code",
   "execution_count": 3,
   "id": "03ed5b3b",
   "metadata": {},
   "outputs": [],
   "source": [
    "while(view.isOpened()):\n",
    "    ret, frame = view.read()\n",
    "    cv2.imshow(\"origin\",frame)\n",
    "    if cv2.waitKey(1) & 0xFF == ord(\"q\"):\n",
    "        break\n",
    "    \n",
    "view.release()\n",
    "cv2.destroyAllWindows()"
   ]
  },
  {
   "cell_type": "markdown",
   "id": "5815a3f1",
   "metadata": {},
   "source": [
    "# Web cam"
   ]
  },
  {
   "cell_type": "code",
   "execution_count": 4,
   "id": "6711b68c",
   "metadata": {},
   "outputs": [],
   "source": [
    "web = cv2.VideoCapture(0)"
   ]
  },
  {
   "cell_type": "code",
   "execution_count": 6,
   "id": "52b5e55a",
   "metadata": {},
   "outputs": [],
   "source": [
    "while(web.isOpened()):\n",
    "    ret, frame = web.read()\n",
    "    cv2.imshow(\"original\",frame)\n",
    "    if cv2.waitKey(1) & 0xFF == ord(\"q\"):\n",
    "        break\n",
    "    \n",
    "view.release()\n",
    "cv2.destroyAllWindows()"
   ]
  },
  {
   "cell_type": "code",
   "execution_count": null,
   "id": "968e6462",
   "metadata": {},
   "outputs": [],
   "source": []
  },
  {
   "cell_type": "code",
   "execution_count": null,
   "id": "ee7ed376",
   "metadata": {},
   "outputs": [],
   "source": []
  }
 ],
 "metadata": {
  "kernelspec": {
   "display_name": "Python 3 (ipykernel)",
   "language": "python",
   "name": "python3"
  },
  "language_info": {
   "codemirror_mode": {
    "name": "ipython",
    "version": 3
   },
   "file_extension": ".py",
   "mimetype": "text/x-python",
   "name": "python",
   "nbconvert_exporter": "python",
   "pygments_lexer": "ipython3",
   "version": "3.10.9"
  }
 },
 "nbformat": 4,
 "nbformat_minor": 5
}
