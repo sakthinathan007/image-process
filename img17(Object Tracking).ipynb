{
 "cells": [
  {
   "cell_type": "code",
   "execution_count": null,
   "id": "cb2056f9",
   "metadata": {},
   "outputs": [],
   "source": [
    "pip install --user opencv-contrib-python"
   ]
  },
  {
   "cell_type": "code",
   "execution_count": 1,
   "id": "78e470cf",
   "metadata": {
    "scrolled": true
   },
   "outputs": [],
   "source": [
    "import cv2"
   ]
  },
  {
   "cell_type": "markdown",
   "id": "8d1252c9",
   "metadata": {},
   "source": [
    "### Video Capture"
   ]
  },
  {
   "cell_type": "code",
   "execution_count": 2,
   "id": "0884f553",
   "metadata": {},
   "outputs": [],
   "source": [
    "cap=cv2.VideoCapture(\"Hardik.mp4\")"
   ]
  },
  {
   "cell_type": "markdown",
   "id": "44d40a78",
   "metadata": {},
   "source": [
    "### Bounding Box"
   ]
  },
  {
   "cell_type": "code",
   "execution_count": 3,
   "id": "912b376f",
   "metadata": {},
   "outputs": [],
   "source": [
    "def drawBox(img,bbox):\n",
    "    x, y, w, h = int(bbox[0]),int(bbox[1]),int(bbox[2]),int(bbox[3])\n",
    "    cv2.rectangle(img,(x,y),((x+w),(y+h)),(0,0,255),1)\n",
    "    cv2.putText(img,\"Hardik\",(75,75),cv2.FONT_HERSHEY_SIMPLEX,0.7,(0,255,0),2)\n",
    "    "
   ]
  },
  {
   "cell_type": "markdown",
   "id": "c77e8ca2",
   "metadata": {},
   "source": [
    "### Tracking Methods"
   ]
  },
  {
   "cell_type": "code",
   "execution_count": 4,
   "id": "3e73915a",
   "metadata": {},
   "outputs": [],
   "source": [
    "tracker = cv2.legacy.TrackerMedianFlow_create()\n",
    "sucess, img = cap.read()\n",
    "bbox = cv2.selectROI(\"Hardik\",img,False)\n",
    "tracker.init(img,bbox)\n",
    "\n",
    "while True:\n",
    "    timer = cv2.getTickCount()\n",
    "    sucess, img = cap.read()\n",
    "    \n",
    "    sucess, bbox = tracker.update(img)\n",
    "    \n",
    "    if sucess:\n",
    "        drawBox(img,bbox)\n",
    "    else:\n",
    "        cv2.putText(img,\"Lost\",(75,75),cv2.FONT_HERSHEY_SIMPLEX,0.5,(0,0,255),2)\n",
    "    \n",
    "    fps = cv2.getTickFrequency()/(cv2.getTickCount()-timer)\n",
    "    cv2.putText(img,str(int(fps)),(75,50),cv2.FONT_HERSHEY_COMPLEX,0.7,(0,0,255),2)\n",
    "    \n",
    "    cv2.imshow(\"Tracking\",img)\n",
    "    \n",
    "    if cv2.waitKey(1)&0xff == ord(\"q\"):\n",
    "        break\n",
    "cap.release()\n",
    "cv2.destroyAllWindows()"
   ]
  },
  {
   "cell_type": "code",
   "execution_count": null,
   "id": "3e5fa016",
   "metadata": {},
   "outputs": [],
   "source": []
  },
  {
   "cell_type": "code",
   "execution_count": null,
   "id": "c8442069",
   "metadata": {},
   "outputs": [],
   "source": []
  }
 ],
 "metadata": {
  "kernelspec": {
   "display_name": "Python 3 (ipykernel)",
   "language": "python",
   "name": "python3"
  },
  "language_info": {
   "codemirror_mode": {
    "name": "ipython",
    "version": 3
   },
   "file_extension": ".py",
   "mimetype": "text/x-python",
   "name": "python",
   "nbconvert_exporter": "python",
   "pygments_lexer": "ipython3",
   "version": "3.10.9"
  }
 },
 "nbformat": 4,
 "nbformat_minor": 5
}
