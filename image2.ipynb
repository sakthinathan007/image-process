{
 "cells": [
  {
   "cell_type": "markdown",
   "id": "ec97bcb8",
   "metadata": {},
   "source": [
    "# Save grey  scale image"
   ]
  },
  {
   "cell_type": "code",
   "execution_count": 1,
   "id": "bc58b7df",
   "metadata": {},
   "outputs": [],
   "source": [
    "import cv2"
   ]
  },
  {
   "cell_type": "code",
   "execution_count": 2,
   "id": "f99df057",
   "metadata": {},
   "outputs": [],
   "source": [
    "img=cv2.imread(\"marguerit.jpg\")"
   ]
  },
  {
   "cell_type": "code",
   "execution_count": 3,
   "id": "38cf80b7",
   "metadata": {},
   "outputs": [],
   "source": [
    "cv2.imshow(\"img\",img)\n",
    "cv2.waitKey(0)\n",
    "cv2.destroyAllWindows()"
   ]
  },
  {
   "cell_type": "code",
   "execution_count": 4,
   "id": "9c5aebbd",
   "metadata": {},
   "outputs": [
    {
     "data": {
      "text/plain": [
       "True"
      ]
     },
     "execution_count": 4,
     "metadata": {},
     "output_type": "execute_result"
    }
   ],
   "source": [
    "cv2.imwrite(\"C:/Users/CSES134/Han_cse/grey.jpg\",img)"
   ]
  },
  {
   "cell_type": "markdown",
   "id": "8acae4e3",
   "metadata": {},
   "source": [
    "# shape\n"
   ]
  },
  {
   "cell_type": "code",
   "execution_count": 4,
   "id": "ce279df6",
   "metadata": {},
   "outputs": [],
   "source": [
    "import numpy as np"
   ]
  },
  {
   "cell_type": "code",
   "execution_count": 5,
   "id": "a10d6b3c",
   "metadata": {},
   "outputs": [],
   "source": [
    "import cv2"
   ]
  },
  {
   "cell_type": "code",
   "execution_count": 6,
   "id": "44529052",
   "metadata": {},
   "outputs": [],
   "source": [
    "shp = img.shape"
   ]
  },
  {
   "cell_type": "code",
   "execution_count": 7,
   "id": "613b8290",
   "metadata": {},
   "outputs": [
    {
     "name": "stdout",
     "output_type": "stream",
     "text": [
      "(340, 522, 3)\n"
     ]
    }
   ],
   "source": [
    "print(shp)"
   ]
  },
  {
   "cell_type": "markdown",
   "id": "9ac464ed",
   "metadata": {},
   "source": [
    "#  Size of an image"
   ]
  },
  {
   "cell_type": "code",
   "execution_count": 8,
   "id": "5f6e16fe",
   "metadata": {},
   "outputs": [],
   "source": [
    "sz = img.size"
   ]
  },
  {
   "cell_type": "code",
   "execution_count": 9,
   "id": "1fc1e721",
   "metadata": {},
   "outputs": [
    {
     "name": "stdout",
     "output_type": "stream",
     "text": [
      "532440\n"
     ]
    }
   ],
   "source": [
    "print(sz)"
   ]
  },
  {
   "cell_type": "markdown",
   "id": "b4a5e536",
   "metadata": {},
   "source": [
    "# Value of the pixel"
   ]
  },
  {
   "cell_type": "code",
   "execution_count": 10,
   "id": "886da398",
   "metadata": {},
   "outputs": [],
   "source": [
    "px = img[233,140]"
   ]
  },
  {
   "cell_type": "code",
   "execution_count": 11,
   "id": "43a5f721",
   "metadata": {},
   "outputs": [
    {
     "name": "stdout",
     "output_type": "stream",
     "text": [
      "[138 143  98]\n"
     ]
    }
   ],
   "source": [
    "print(px)"
   ]
  },
  {
   "cell_type": "markdown",
   "id": "b25ce40a",
   "metadata": {},
   "source": [
    "# ROI (Region Of Intrest)"
   ]
  },
  {
   "cell_type": "code",
   "execution_count": 12,
   "id": "c290dab5",
   "metadata": {},
   "outputs": [
    {
     "data": {
      "text/plain": [
       "array([], shape=(0, 0, 3), dtype=uint8)"
      ]
     },
     "execution_count": 12,
     "metadata": {},
     "output_type": "execute_result"
    }
   ],
   "source": [
    "roi = img[1:75, 1:75]\n",
    "img[200:175,200:175]"
   ]
  },
  {
   "cell_type": "markdown",
   "id": "a3ed9374",
   "metadata": {},
   "source": [
    "# Split colours"
   ]
  },
  {
   "cell_type": "code",
   "execution_count": 14,
   "id": "42335c63",
   "metadata": {},
   "outputs": [
    {
     "data": {
      "text/plain": [
       "-1"
      ]
     },
     "execution_count": 14,
     "metadata": {},
     "output_type": "execute_result"
    }
   ],
   "source": [
    "b,g,r = cv2.split(img)\n",
    "cv2.imshow(\"b\",b)\n",
    "cv2.waitKey(0)\n",
    "cv2.imshow(\"g\",g)\n",
    "cv2.waitKey(0)\n",
    "cv2.imshow(\"r\",r)\n",
    "cv2.waitKey(0)"
   ]
  },
  {
   "cell_type": "markdown",
   "id": "aeee3448",
   "metadata": {},
   "source": [
    "# Merging on image"
   ]
  },
  {
   "cell_type": "code",
   "execution_count": 15,
   "id": "cb64a78c",
   "metadata": {},
   "outputs": [],
   "source": [
    "mer = cv2.merge((r,g,b))\n",
    "\n",
    "cv2.imshow(\"merge\",mer)\n",
    "cv2.waitKey(0)\n",
    "cv2.destroyAllWindows()"
   ]
  },
  {
   "cell_type": "code",
   "execution_count": null,
   "id": "1fb3824e",
   "metadata": {},
   "outputs": [],
   "source": []
  }
 ],
 "metadata": {
  "kernelspec": {
   "display_name": "Python 3 (ipykernel)",
   "language": "python",
   "name": "python3"
  },
  "language_info": {
   "codemirror_mode": {
    "name": "ipython",
    "version": 3
   },
   "file_extension": ".py",
   "mimetype": "text/x-python",
   "name": "python",
   "nbconvert_exporter": "python",
   "pygments_lexer": "ipython3",
   "version": "3.9.16"
  }
 },
 "nbformat": 4,
 "nbformat_minor": 5
}
