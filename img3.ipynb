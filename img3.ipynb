{
 "cells": [
  {
   "cell_type": "markdown",
   "id": "e651d795",
   "metadata": {},
   "source": [
    "# Arithmatic operation"
   ]
  },
  {
   "cell_type": "code",
   "execution_count": 1,
   "id": "3d47ccf8",
   "metadata": {},
   "outputs": [],
   "source": [
    "import cv2\n",
    "import numpy as np"
   ]
  },
  {
   "cell_type": "code",
   "execution_count": 2,
   "id": "83a2cf8a",
   "metadata": {},
   "outputs": [],
   "source": [
    "img1=cv2.imread(\"1.png\")\n",
    "img2=cv2.imread(\"2.png\")\n",
    "img3=cv2.imread(\"3.png\")"
   ]
  },
  {
   "cell_type": "code",
   "execution_count": 9,
   "id": "f5572015",
   "metadata": {},
   "outputs": [
    {
     "data": {
      "text/plain": [
       "-1"
      ]
     },
     "execution_count": 9,
     "metadata": {},
     "output_type": "execute_result"
    }
   ],
   "source": [
    "cv2.imshow(\"img\",img1)\n",
    "cv2.waitKey(0)\n",
    "cv2.imshow(\"img\",img2)\n",
    "cv2.waitKey(0)\n",
    "cv2.imshow(\"img\",img3)\n",
    "cv2.waitKey(0)"
   ]
  },
  {
   "cell_type": "code",
   "execution_count": 10,
   "id": "e8237135",
   "metadata": {},
   "outputs": [],
   "source": [
    "imgAdd = cv2.addWeighted(img1,0.5,img2,0.5,1)"
   ]
  },
  {
   "cell_type": "code",
   "execution_count": 5,
   "id": "f64f6e67",
   "metadata": {},
   "outputs": [
    {
     "data": {
      "text/plain": [
       "-1"
      ]
     },
     "execution_count": 5,
     "metadata": {},
     "output_type": "execute_result"
    }
   ],
   "source": [
    "cv2.imshow(\"img\",img1)\n",
    "cv2.waitKey(0)\n",
    "cv2.imshow(\"img\",img2)\n",
    "cv2.waitKey(0)\n",
    "cv2.imshow(\"Add img\",imgAdd)\n",
    "cv2.waitKey(0)"
   ]
  },
  {
   "cell_type": "markdown",
   "id": "5d1dee6c",
   "metadata": {},
   "source": [
    "# sub two image"
   ]
  },
  {
   "cell_type": "code",
   "execution_count": 6,
   "id": "39acdc07",
   "metadata": {},
   "outputs": [],
   "source": [
    "imsub = cv2.subtract(img1,img3)"
   ]
  },
  {
   "cell_type": "code",
   "execution_count": 7,
   "id": "9c36e890",
   "metadata": {},
   "outputs": [
    {
     "data": {
      "text/plain": [
       "-1"
      ]
     },
     "execution_count": 7,
     "metadata": {},
     "output_type": "execute_result"
    }
   ],
   "source": [
    "cv2.imshow(\"img1\",img1)\n",
    "cv2.waitKey(0)\n",
    "cv2.imshow(\"img3\",img3)\n",
    "cv2.waitKey(0)\n",
    "cv2.imshow(\"img1-img3\",imsub)\n",
    "cv2.waitKey(0)"
   ]
  },
  {
   "cell_type": "markdown",
   "id": "b51eb8c4",
   "metadata": {},
   "source": [
    "# Bitwise operator"
   ]
  },
  {
   "cell_type": "code",
   "execution_count": 8,
   "id": "779cc584",
   "metadata": {},
   "outputs": [],
   "source": [
    "imAnd = cv2.bitwise_and(img1,img2,mask=None)"
   ]
  },
  {
   "cell_type": "code",
   "execution_count": 9,
   "id": "c709bfb4",
   "metadata": {},
   "outputs": [
    {
     "data": {
      "text/plain": [
       "-1"
      ]
     },
     "execution_count": 9,
     "metadata": {},
     "output_type": "execute_result"
    }
   ],
   "source": [
    "cv2.imshow(\"img2\",img2)\n",
    "cv2.waitKey(0)\n",
    "cv2.imshow(\"img3\",img3)\n",
    "cv2.waitKey(0)\n",
    "cv2.imshow(\"IMG AND\",imAnd)\n",
    "cv2.waitKey(0)"
   ]
  },
  {
   "cell_type": "code",
   "execution_count": 10,
   "id": "52456e67",
   "metadata": {},
   "outputs": [],
   "source": [
    "imgOr = cv2.bitwise_or(img2,img3,mask=None)"
   ]
  },
  {
   "cell_type": "code",
   "execution_count": 11,
   "id": "7abb7da7",
   "metadata": {},
   "outputs": [
    {
     "data": {
      "text/plain": [
       "-1"
      ]
     },
     "execution_count": 11,
     "metadata": {},
     "output_type": "execute_result"
    }
   ],
   "source": [
    "cv2.imshow(\"img2\",img2)\n",
    "cv2.waitKey(0)\n",
    "cv2.imshow(\"img3\",img3)\n",
    "cv2.waitKey(0)\n",
    "cv2.imshow(\"IMG OR\",imgOr)\n",
    "cv2.waitKey(0)"
   ]
  },
  {
   "cell_type": "code",
   "execution_count": 12,
   "id": "013bff0e",
   "metadata": {},
   "outputs": [],
   "source": [
    "imgNot = cv2.bitwise_not(img2,img3,mask=None)"
   ]
  },
  {
   "cell_type": "code",
   "execution_count": 13,
   "id": "4e500468",
   "metadata": {},
   "outputs": [
    {
     "data": {
      "text/plain": [
       "-1"
      ]
     },
     "execution_count": 13,
     "metadata": {},
     "output_type": "execute_result"
    }
   ],
   "source": [
    "cv2.imshow(\"img2\",img2)\n",
    "cv2.waitKey(0)\n",
    "cv2.imshow(\"IMG NOT\",imgNot)\n",
    "cv2.waitKey(0)"
   ]
  },
  {
   "cell_type": "code",
   "execution_count": 17,
   "id": "fe53e2b0",
   "metadata": {},
   "outputs": [],
   "source": [
    "imgXor = cv2.bitwise_xor(img1,img2,mask=None)"
   ]
  },
  {
   "cell_type": "code",
   "execution_count": 18,
   "id": "be7f228d",
   "metadata": {},
   "outputs": [
    {
     "data": {
      "text/plain": [
       "-1"
      ]
     },
     "execution_count": 18,
     "metadata": {},
     "output_type": "execute_result"
    }
   ],
   "source": [
    "cv2.imshow(\"img2\",img2)\n",
    "cv2.waitKey(0)\n",
    "cv2.imshow(\"img3\",img3)\n",
    "cv2.waitKey(0)\n",
    "cv2.imshow(\"IMG XOR\",imgXor)\n",
    "cv2.waitKey(0)"
   ]
  },
  {
   "cell_type": "markdown",
   "id": "b724688f",
   "metadata": {},
   "source": [
    "# ROI(Region of intrest)"
   ]
  },
  {
   "cell_type": "code",
   "execution_count": 3,
   "id": "fe2ded44",
   "metadata": {},
   "outputs": [
    {
     "name": "stdout",
     "output_type": "stream",
     "text": [
      "(200, 200, 3)\n"
     ]
    }
   ],
   "source": [
    "sp = img2.shape\n",
    "print(sp)"
   ]
  },
  {
   "cell_type": "code",
   "execution_count": 5,
   "id": "e08577da",
   "metadata": {},
   "outputs": [
    {
     "data": {
      "text/plain": [
       "-1"
      ]
     },
     "execution_count": 5,
     "metadata": {},
     "output_type": "execute_result"
    }
   ],
   "source": [
    "cv2.imshow(\"img 2\",img2)\n",
    "cv2.waitKey(0)"
   ]
  },
  {
   "cell_type": "code",
   "execution_count": 6,
   "id": "714fd268",
   "metadata": {},
   "outputs": [],
   "source": [
    "roi = img2[0:10,0:20]"
   ]
  },
  {
   "cell_type": "code",
   "execution_count": 7,
   "id": "194556cd",
   "metadata": {},
   "outputs": [
    {
     "data": {
      "text/plain": [
       "-1"
      ]
     },
     "execution_count": 7,
     "metadata": {},
     "output_type": "execute_result"
    }
   ],
   "source": [
    "cv2.imshow(\"roi\",roi)\n",
    "cv2.waitKey(0)"
   ]
  },
  {
   "cell_type": "code",
   "execution_count": 8,
   "id": "8423ea20",
   "metadata": {},
   "outputs": [
    {
     "data": {
      "text/plain": [
       "True"
      ]
     },
     "execution_count": 8,
     "metadata": {},
     "output_type": "execute_result"
    }
   ],
   "source": [
    "cv2.imwrite(\"img2(cut).png\",roi)"
   ]
  },
  {
   "cell_type": "code",
   "execution_count": null,
   "id": "c8702fd9",
   "metadata": {},
   "outputs": [],
   "source": []
  }
 ],
 "metadata": {
  "kernelspec": {
   "display_name": "Python 3 (ipykernel)",
   "language": "python",
   "name": "python3"
  },
  "language_info": {
   "codemirror_mode": {
    "name": "ipython",
    "version": 3
   },
   "file_extension": ".py",
   "mimetype": "text/x-python",
   "name": "python",
   "nbconvert_exporter": "python",
   "pygments_lexer": "ipython3",
   "version": "3.10.9"
  }
 },
 "nbformat": 4,
 "nbformat_minor": 5
}
