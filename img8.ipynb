{
 "cells": [
  {
   "cell_type": "markdown",
   "id": "5e76e318",
   "metadata": {},
   "source": [
    "# IMAGE SEGMENTATION"
   ]
  },
  {
   "cell_type": "markdown",
   "id": "d2156e97",
   "metadata": {},
   "source": [
    "## Importing libraries"
   ]
  },
  {
   "cell_type": "code",
   "execution_count": 1,
   "id": "c40d4baa",
   "metadata": {},
   "outputs": [],
   "source": [
    "import cv2 \n",
    "import numpy as nu"
   ]
  },
  {
   "cell_type": "markdown",
   "id": "846622d4",
   "metadata": {},
   "source": [
    "## Reading image"
   ]
  },
  {
   "cell_type": "code",
   "execution_count": 2,
   "id": "c221213c",
   "metadata": {},
   "outputs": [],
   "source": [
    "img = cv2.imread(\"img_2.jpg\")"
   ]
  },
  {
   "cell_type": "code",
   "execution_count": 3,
   "id": "dc2801b0",
   "metadata": {},
   "outputs": [
    {
     "data": {
      "text/plain": [
       "-1"
      ]
     },
     "execution_count": 3,
     "metadata": {},
     "output_type": "execute_result"
    }
   ],
   "source": [
    "cv2.imshow(\"original\",img)\n",
    "cv2.waitKey(0)"
   ]
  },
  {
   "cell_type": "markdown",
   "id": "37cdea1b",
   "metadata": {},
   "source": [
    "# RGB Conversion"
   ]
  },
  {
   "cell_type": "code",
   "execution_count": 4,
   "id": "bf2074d5",
   "metadata": {},
   "outputs": [],
   "source": [
    "imrgb = cv2.cvtColor(img, cv2.COLOR_RGB2BGR)"
   ]
  },
  {
   "cell_type": "markdown",
   "id": "99e1accb",
   "metadata": {},
   "source": [
    "## Reshape"
   ]
  },
  {
   "cell_type": "code",
   "execution_count": 5,
   "id": "51f1d601",
   "metadata": {},
   "outputs": [],
   "source": [
    "vec = imrgb.reshape((-1,3))"
   ]
  },
  {
   "cell_type": "markdown",
   "id": "2c6020d6",
   "metadata": {},
   "source": [
    "## Float Conversion"
   ]
  },
  {
   "cell_type": "code",
   "execution_count": 6,
   "id": "7ec7bcec",
   "metadata": {},
   "outputs": [],
   "source": [
    "vec = nu.float32(vec)"
   ]
  },
  {
   "cell_type": "markdown",
   "id": "59b592e8",
   "metadata": {},
   "source": [
    "## Iteration Termination Criteria"
   ]
  },
  {
   "cell_type": "code",
   "execution_count": 9,
   "id": "0d2111b8",
   "metadata": {},
   "outputs": [],
   "source": [
    "criteria = (cv2.TERM_CRITERIA_EPS + cv2.TERM_CRITERIA_MAX_ITER,100, 1)"
   ]
  },
  {
   "cell_type": "markdown",
   "id": "6661d11a",
   "metadata": {},
   "source": [
    "## cluster condition"
   ]
  },
  {
   "cell_type": "code",
   "execution_count": null,
   "id": "5bc184b4",
   "metadata": {},
   "outputs": [],
   "source": [
    "k = 4\n",
    "attempts = 50"
   ]
  },
  {
   "cell_type": "markdown",
   "id": "08932e47",
   "metadata": {},
   "source": [
    "## k-Means Clustering"
   ]
  },
  {
   "cell_type": "code",
   "execution_count": null,
   "id": "e12f36d2",
   "metadata": {},
   "outputs": [],
   "source": [
    "ret,label,center = cv2.kmeans(vec,k,None,criteria,attempts,cv2.KMEANS_PP_CENTERS)"
   ]
  },
  {
   "cell_type": "markdown",
   "id": "011c3d9c",
   "metadata": {},
   "source": [
    "## Unit conversion"
   ]
  },
  {
   "cell_type": "code",
   "execution_count": null,
   "id": "4e048d68",
   "metadata": {},
   "outputs": [],
   "source": [
    "center = nu.uint8(center)"
   ]
  },
  {
   "cell_type": "markdown",
   "id": "804e901e",
   "metadata": {},
   "source": [
    "## Flatting and Reshape"
   ]
  },
  {
   "cell_type": "code",
   "execution_count": null,
   "id": "ce89a1c7",
   "metadata": {},
   "outputs": [],
   "source": [
    "res = center[label.flatten()]\n",
    "res_img = res.reshape((imrgb.shape))"
   ]
  },
  {
   "cell_type": "markdown",
   "id": "b23191ae",
   "metadata": {},
   "source": [
    "## Original Segment image"
   ]
  },
  {
   "cell_type": "code",
   "execution_count": null,
   "id": "c021af94",
   "metadata": {},
   "outputs": [],
   "source": [
    "cv2.imshow(\"original\",img)\n",
    "cv2.imshow(\"segment\",res_img)\n",
    "\n",
    "if cv2.waitKey(0) & 0xff == 27:\n",
    "    cv2.destroyAllwindows() "
   ]
  },
  {
   "cell_type": "code",
   "execution_count": null,
   "id": "9aafe2d9",
   "metadata": {},
   "outputs": [],
   "source": []
  },
  {
   "cell_type": "code",
   "execution_count": null,
   "id": "25905f42",
   "metadata": {},
   "outputs": [],
   "source": []
  }
 ],
 "metadata": {
  "kernelspec": {
   "display_name": "Python 3 (ipykernel)",
   "language": "python",
   "name": "python3"
  },
  "language_info": {
   "codemirror_mode": {
    "name": "ipython",
    "version": 3
   },
   "file_extension": ".py",
   "mimetype": "text/x-python",
   "name": "python",
   "nbconvert_exporter": "python",
   "pygments_lexer": "ipython3",
   "version": "3.10.9"
  }
 },
 "nbformat": 4,
 "nbformat_minor": 5
}
