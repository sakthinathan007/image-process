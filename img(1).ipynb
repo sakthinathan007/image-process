{
 "cells": [
  {
   "cell_type": "code",
   "execution_count": 1,
   "id": "33d93bff",
   "metadata": {},
   "outputs": [
    {
     "name": "stdout",
     "output_type": "stream",
     "text": [
      "Requirement already satisfied: opencv-python in c:\\users\\sn150\\anaconda3\\envs\\gladson_ai\\lib\\site-packages (4.7.0.68)\n",
      "Requirement already satisfied: numpy>=1.19.3 in c:\\users\\sn150\\anaconda3\\envs\\gladson_ai\\lib\\site-packages (from opencv-python) (1.24.1)\n",
      "Note: you may need to restart the kernel to use updated packages.\n"
     ]
    }
   ],
   "source": [
    "pip install opencv-python"
   ]
  },
  {
   "cell_type": "code",
   "execution_count": 2,
   "id": "56769c14",
   "metadata": {},
   "outputs": [],
   "source": [
    "import cv2\n"
   ]
  },
  {
   "cell_type": "markdown",
   "id": "75203579",
   "metadata": {},
   "source": [
    "# image reading"
   ]
  },
  {
   "cell_type": "markdown",
   "id": "04c07c8a",
   "metadata": {},
   "source": [
    "img=cv2.imread(\"499660-nature-wallpaper-hd.jpg\")"
   ]
  },
  {
   "cell_type": "code",
   "execution_count": 26,
   "id": "94ef62dc",
   "metadata": {},
   "outputs": [],
   "source": [
    "grey=cv2.imread(\"499660-nature-wallpaper-hd.jpg\",0)"
   ]
  },
  {
   "cell_type": "code",
   "execution_count": 56,
   "id": "44d96083",
   "metadata": {},
   "outputs": [],
   "source": [
    "cv2.imshow(\"img\",img)\n",
    "cv2.imshow(\"grey\",grey)\n",
    "cv2.waitKey(0)\n",
    "cv2.destroyAllWindows()"
   ]
  },
  {
   "cell_type": "code",
   "execution_count": null,
   "id": "dc176c42",
   "metadata": {},
   "outputs": [],
   "source": [
    "cv2.imshow(\"color\",img)"
   ]
  },
  {
   "cell_type": "markdown",
   "id": "7db1985b",
   "metadata": {},
   "source": [
    "# image writing"
   ]
  },
  {
   "cell_type": "code",
   "execution_count": 54,
   "id": "a3712614",
   "metadata": {},
   "outputs": [
    {
     "data": {
      "text/plain": [
       "True"
      ]
     },
     "execution_count": 54,
     "metadata": {},
     "output_type": "execute_result"
    }
   ],
   "source": [
    "cv2.imwrite('C:/image/grey image.jpg',grey)"
   ]
  },
  {
   "cell_type": "code",
   "execution_count": 33,
   "id": "1643c2ab",
   "metadata": {},
   "outputs": [],
   "source": [
    "import numpy as nump"
   ]
  },
  {
   "cell_type": "markdown",
   "id": "42cab5da",
   "metadata": {},
   "source": [
    "# shape"
   ]
  },
  {
   "cell_type": "code",
   "execution_count": 50,
   "id": "71061e8f",
   "metadata": {},
   "outputs": [],
   "source": [
    "shape=img.shape"
   ]
  },
  {
   "cell_type": "code",
   "execution_count": 51,
   "id": "dc182e06",
   "metadata": {},
   "outputs": [
    {
     "name": "stdout",
     "output_type": "stream",
     "text": [
      "(1600, 2560, 3)\n"
     ]
    }
   ],
   "source": [
    "print(shape)"
   ]
  },
  {
   "cell_type": "markdown",
   "id": "52cdfa0c",
   "metadata": {},
   "source": [
    "# size"
   ]
  },
  {
   "cell_type": "code",
   "execution_count": 42,
   "id": "76fc2ddb",
   "metadata": {},
   "outputs": [],
   "source": [
    "sz=img.size"
   ]
  },
  {
   "cell_type": "code",
   "execution_count": 43,
   "id": "86638cf3",
   "metadata": {},
   "outputs": [
    {
     "name": "stdout",
     "output_type": "stream",
     "text": [
      "12288000\n"
     ]
    }
   ],
   "source": [
    "print(sz)"
   ]
  },
  {
   "cell_type": "markdown",
   "id": "861a9ae1",
   "metadata": {},
   "source": [
    "# value of an pixel"
   ]
  },
  {
   "cell_type": "code",
   "execution_count": 52,
   "id": "c58b168f",
   "metadata": {},
   "outputs": [],
   "source": [
    "px=img[30,40]"
   ]
  },
  {
   "cell_type": "code",
   "execution_count": 53,
   "id": "9f7af94d",
   "metadata": {},
   "outputs": [
    {
     "name": "stdout",
     "output_type": "stream",
     "text": [
      "[134  90   0]\n"
     ]
    }
   ],
   "source": [
    "print(px)"
   ]
  },
  {
   "cell_type": "markdown",
   "id": "c11efaf7",
   "metadata": {},
   "source": [
    "# splitting"
   ]
  },
  {
   "cell_type": "code",
   "execution_count": 57,
   "id": "7b3a60b4",
   "metadata": {},
   "outputs": [
    {
     "data": {
      "text/plain": [
       "-1"
      ]
     },
     "execution_count": 57,
     "metadata": {},
     "output_type": "execute_result"
    }
   ],
   "source": [
    "b,g,r=cv2.split(img)\n",
    "cv2.imshow(\"b\",b)\n",
    "cv2.waitKey(0)\n",
    "cv2.imshow(\"g\",g)\n",
    "cv2.waitKey(0)\n",
    "cv2.imshow(\"r\",r)\n",
    "cv2.waitKey(0)"
   ]
  },
  {
   "cell_type": "code",
   "execution_count": null,
   "id": "1abc453e",
   "metadata": {},
   "outputs": [],
   "source": []
  }
 ],
 "metadata": {
  "kernelspec": {
   "display_name": "Python 3 (ipykernel)",
   "language": "python",
   "name": "python3"
  },
  "language_info": {
   "codemirror_mode": {
    "name": "ipython",
    "version": 3
   },
   "file_extension": ".py",
   "mimetype": "text/x-python",
   "name": "python",
   "nbconvert_exporter": "python",
   "pygments_lexer": "ipython3",
   "version": "3.10.9"
  }
 },
 "nbformat": 4,
 "nbformat_minor": 5
}
