{
 "cells": [
  {
   "cell_type": "code",
   "execution_count": 1,
   "id": "e8ba30eb",
   "metadata": {},
   "outputs": [],
   "source": [
    "import cv2\n",
    "\n",
    "import numpy as nump"
   ]
  },
  {
   "cell_type": "code",
   "execution_count": 2,
   "id": "4cc88596",
   "metadata": {},
   "outputs": [],
   "source": [
    "img = cv2.imread(\"Noise-Image.1.jpg\")"
   ]
  },
  {
   "cell_type": "code",
   "execution_count": 3,
   "id": "cf1e1fbe",
   "metadata": {},
   "outputs": [
    {
     "data": {
      "text/plain": [
       "-1"
      ]
     },
     "execution_count": 3,
     "metadata": {},
     "output_type": "execute_result"
    }
   ],
   "source": [
    "cv2.imshow(\"img\",img)\n",
    "cv2.waitKey(0)\n"
   ]
  },
  {
   "cell_type": "code",
   "execution_count": 4,
   "id": "cb42f4ae",
   "metadata": {},
   "outputs": [],
   "source": [
    "avg = cv2.blur(img,(5,5))"
   ]
  },
  {
   "cell_type": "code",
   "execution_count": 5,
   "id": "47330162",
   "metadata": {},
   "outputs": [
    {
     "data": {
      "text/plain": [
       "-1"
      ]
     },
     "execution_count": 5,
     "metadata": {},
     "output_type": "execute_result"
    }
   ],
   "source": [
    "cv2.imshow(\"original\",img)\n",
    "cv2.waitKey(0)\n",
    "cv2.imshow(\"blur\",img)\n",
    "cv2.waitKey(0)"
   ]
  },
  {
   "cell_type": "code",
   "execution_count": 9,
   "id": "84a1e8f9",
   "metadata": {},
   "outputs": [
    {
     "data": {
      "text/plain": [
       "True"
      ]
     },
     "execution_count": 9,
     "metadata": {},
     "output_type": "execute_result"
    }
   ],
   "source": [
    "cv2.imwrite(\"C:/Users/aedpu/sakthi_cse_AI/gaussionBlur.jpg\",avg)"
   ]
  },
  {
   "cell_type": "code",
   "execution_count": 7,
   "id": "dde35708",
   "metadata": {},
   "outputs": [],
   "source": [
    "gauss = cv2.GaussianBlur(img,(5,5),5)"
   ]
  },
  {
   "cell_type": "code",
   "execution_count": 8,
   "id": "af08a176",
   "metadata": {},
   "outputs": [
    {
     "data": {
      "text/plain": [
       "-1"
      ]
     },
     "execution_count": 8,
     "metadata": {},
     "output_type": "execute_result"
    }
   ],
   "source": [
    "cv2.imshow(\"original\",img)\n",
    "cv2.waitKey(0)\n",
    "cv2.imshow(\"blur\",gauss)\n",
    "cv2.waitKey(0)"
   ]
  },
  {
   "cell_type": "code",
   "execution_count": 10,
   "id": "1f23a4ec",
   "metadata": {},
   "outputs": [
    {
     "data": {
      "text/plain": [
       "True"
      ]
     },
     "execution_count": 10,
     "metadata": {},
     "output_type": "execute_result"
    }
   ],
   "source": [
    "cv2.imwrite(\"C:/Users/aedpu/sakthi_cse_AI/Median Blur.jpg\",avg)"
   ]
  },
  {
   "cell_type": "code",
   "execution_count": 10,
   "id": "d60386a4",
   "metadata": {},
   "outputs": [],
   "source": [
    "img = cv2.imread(\"Noise-Image.1.jpg\")"
   ]
  },
  {
   "cell_type": "code",
   "execution_count": 11,
   "id": "d75f085c",
   "metadata": {},
   "outputs": [],
   "source": [
    "med = cv2.medianBlur(img,7)"
   ]
  },
  {
   "cell_type": "code",
   "execution_count": 12,
   "id": "639644a8",
   "metadata": {},
   "outputs": [
    {
     "data": {
      "text/plain": [
       "-1"
      ]
     },
     "execution_count": 12,
     "metadata": {},
     "output_type": "execute_result"
    }
   ],
   "source": [
    "cv2.imshow(\"img\",img)\n",
    "cv2.waitKey(0)\n",
    "cv2.imshow(\"BLUR - MED\",med)\n",
    "cv2.waitKey(0)"
   ]
  },
  {
   "cell_type": "code",
   "execution_count": 12,
   "id": "872f02da",
   "metadata": {},
   "outputs": [
    {
     "ename": "NameError",
     "evalue": "name 'med' is not defined",
     "output_type": "error",
     "traceback": [
      "\u001b[1;31m---------------------------------------------------------------------------\u001b[0m",
      "\u001b[1;31mNameError\u001b[0m                                 Traceback (most recent call last)",
      "Cell \u001b[1;32mIn[12], line 1\u001b[0m\n\u001b[1;32m----> 1\u001b[0m cv2\u001b[38;5;241m.\u001b[39mimwrite(\u001b[38;5;124m\"\u001b[39m\u001b[38;5;124mC:/Users/aedpu/sakthi_cse_AI/Median Blur.jpg\u001b[39m\u001b[38;5;124m\"\u001b[39m,\u001b[43mmed\u001b[49m)\n",
      "\u001b[1;31mNameError\u001b[0m: name 'med' is not defined"
     ]
    }
   ],
   "source": [
    "cv2.imwrite(\"C:/Users/aedpu/sakthi_cse_AI/Median Blur.jpg\",med)"
   ]
  },
  {
   "cell_type": "code",
   "execution_count": 14,
   "id": "038b9b54",
   "metadata": {},
   "outputs": [],
   "source": [
    "bilat = cv2.bilateralFilter(img,100,100,100)"
   ]
  },
  {
   "cell_type": "code",
   "execution_count": 15,
   "id": "e8c1c9d5",
   "metadata": {},
   "outputs": [
    {
     "data": {
      "text/plain": [
       "-1"
      ]
     },
     "execution_count": 15,
     "metadata": {},
     "output_type": "execute_result"
    }
   ],
   "source": [
    "cv2.imshow(\"img\",img)\n",
    "cv2.waitKey(0)\n",
    "cv2.imshow(\"BLUR - BILAT\",bilat)\n",
    "cv2.waitKey(0)"
   ]
  },
  {
   "cell_type": "code",
   "execution_count": null,
   "id": "c1ee5004",
   "metadata": {},
   "outputs": [],
   "source": []
  }
 ],
 "metadata": {
  "kernelspec": {
   "display_name": "Python 3 (ipykernel)",
   "language": "python",
   "name": "python3"
  },
  "language_info": {
   "codemirror_mode": {
    "name": "ipython",
    "version": 3
   },
   "file_extension": ".py",
   "mimetype": "text/x-python",
   "name": "python",
   "nbconvert_exporter": "python",
   "pygments_lexer": "ipython3",
   "version": "3.10.9"
  }
 },
 "nbformat": 4,
 "nbformat_minor": 5
}
