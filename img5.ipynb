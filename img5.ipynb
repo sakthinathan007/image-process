{
 "cells": [
  {
   "cell_type": "markdown",
   "id": "23192bba",
   "metadata": {},
   "source": [
    "# ROTATION"
   ]
  },
  {
   "cell_type": "code",
   "execution_count": 1,
   "id": "2338f62f",
   "metadata": {},
   "outputs": [],
   "source": [
    "import cv2\n",
    "import numpy as nu"
   ]
  },
  {
   "cell_type": "code",
   "execution_count": 2,
   "id": "439696e0",
   "metadata": {},
   "outputs": [],
   "source": [
    "img = cv2.imread(\"srs.jpg\")"
   ]
  },
  {
   "cell_type": "code",
   "execution_count": 3,
   "id": "cbbfde5a",
   "metadata": {},
   "outputs": [
    {
     "data": {
      "text/plain": [
       "-1"
      ]
     },
     "execution_count": 3,
     "metadata": {},
     "output_type": "execute_result"
    }
   ],
   "source": [
    "cv2.imshow(\"srs\",img)\n",
    "cv2.waitKey(0)"
   ]
  },
  {
   "cell_type": "code",
   "execution_count": 4,
   "id": "725499b6",
   "metadata": {},
   "outputs": [
    {
     "name": "stdout",
     "output_type": "stream",
     "text": [
      "(1200, 1920, 3)\n",
      "1200\n",
      "1920\n"
     ]
    }
   ],
   "source": [
    "shape = img.shape\n",
    "print(shape)\n",
    "height,width = img.shape[:2]\n",
    "print(height)\n",
    "print(width)"
   ]
  },
  {
   "cell_type": "code",
   "execution_count": 5,
   "id": "079fec57",
   "metadata": {},
   "outputs": [
    {
     "name": "stdout",
     "output_type": "stream",
     "text": [
      "(600.0, 960.0)\n"
     ]
    }
   ],
   "source": [
    "# get the center of the image\n",
    "center = (height/2,width/2)\n",
    "print(center)"
   ]
  },
  {
   "cell_type": "code",
   "execution_count": 6,
   "id": "1002ab19",
   "metadata": {},
   "outputs": [
    {
     "name": "stdout",
     "output_type": "stream",
     "text": [
      "[[ 3.53553391e-01  3.53553391e-01  4.84567107e+01]\n",
      " [-3.53553391e-01  3.53553391e-01  8.32720779e+02]]\n"
     ]
    }
   ],
   "source": [
    "# using cv2.RotationMatrix2D() to get the rotation matrix\n",
    "rotate_matrix = cv2.getRotationMatrix2D(center=center, angle=45, scale=0.5)\n",
    "print(rotate_matrix)"
   ]
  },
  {
   "cell_type": "code",
   "execution_count": 7,
   "id": "8ef572e5",
   "metadata": {},
   "outputs": [
    {
     "data": {
      "text/plain": [
       "-1"
      ]
     },
     "execution_count": 7,
     "metadata": {},
     "output_type": "execute_result"
    }
   ],
   "source": [
    "#rotate the image using cv2.warpAffine\n",
    "rotated_image = cv2.warpAffine(src=img, M=rotate_matrix, dsize=(width,height))\n",
    "\n",
    "cv2.imshow('original image', img)\n",
    "cv2.waitKey(0)\n",
    "cv2.imshow('Rotate image', rotated_image)\n",
    "cv2.waitKey(0)"
   ]
  },
  {
   "cell_type": "markdown",
   "id": "2506bc23",
   "metadata": {},
   "source": [
    "# translation"
   ]
  },
  {
   "cell_type": "code",
   "execution_count": 8,
   "id": "3d9118ae",
   "metadata": {},
   "outputs": [],
   "source": [
    "tx, ty = width/300, height/400"
   ]
  },
  {
   "cell_type": "code",
   "execution_count": 11,
   "id": "bbcef85a",
   "metadata": {},
   "outputs": [],
   "source": [
    "#create the translation matrix using tx and ty, it is a numpy array\n",
    "translation_matrix = nu.array([[1, 0, tx],[0, 1, ty]])"
   ]
  },
  {
   "cell_type": "code",
   "execution_count": 12,
   "id": "8ade2a52",
   "metadata": {},
   "outputs": [],
   "source": [
    "#apply the translation to the image\n",
    "translation_image = cv2.warpAffine(src=img, M=translation_matrix, dsize=(width,height))"
   ]
  },
  {
   "cell_type": "code",
   "execution_count": 14,
   "id": "bb389cc3",
   "metadata": {},
   "outputs": [
    {
     "data": {
      "text/plain": [
       "-1"
      ]
     },
     "execution_count": 14,
     "metadata": {},
     "output_type": "execute_result"
    }
   ],
   "source": [
    "cv2.imshow(\"original image\",img)\n",
    "cv2.waitKey(0)\n",
    "cv2.imshow('translation_image', translation_image)\n",
    "cv2.waitKey(0)"
   ]
  },
  {
   "cell_type": "code",
   "execution_count": null,
   "id": "bf6a8d24",
   "metadata": {},
   "outputs": [],
   "source": []
  }
 ],
 "metadata": {
  "kernelspec": {
   "display_name": "Python 3 (ipykernel)",
   "language": "python",
   "name": "python3"
  },
  "language_info": {
   "codemirror_mode": {
    "name": "ipython",
    "version": 3
   },
   "file_extension": ".py",
   "mimetype": "text/x-python",
   "name": "python",
   "nbconvert_exporter": "python",
   "pygments_lexer": "ipython3",
   "version": "3.10.9"
  }
 },
 "nbformat": 4,
 "nbformat_minor": 5
}
