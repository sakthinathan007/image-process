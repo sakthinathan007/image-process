{
 "cells": [
  {
   "cell_type": "markdown",
   "id": "0e8117ce",
   "metadata": {},
   "source": [
    "# Thresholding"
   ]
  },
  {
   "cell_type": "code",
   "execution_count": 1,
   "id": "7f7139f6",
   "metadata": {},
   "outputs": [],
   "source": [
    "import cv2\n",
    "import numpy as nu"
   ]
  },
  {
   "cell_type": "code",
   "execution_count": 2,
   "id": "7b24d982",
   "metadata": {},
   "outputs": [],
   "source": [
    "img = cv2.imread('R (1).jpg')"
   ]
  },
  {
   "cell_type": "code",
   "execution_count": 3,
   "id": "cbad7519",
   "metadata": {},
   "outputs": [],
   "source": [
    "cv2.imshow(\"original\",img)\n",
    "cv2.waitKey(0)\n",
    "cv2.destroyAllWindows()"
   ]
  },
  {
   "cell_type": "code",
   "execution_count": 4,
   "id": "776746f2",
   "metadata": {},
   "outputs": [],
   "source": [
    "img_gray = cv2.cvtColor(img,cv2.COLOR_BGR2GRAY)"
   ]
  },
  {
   "cell_type": "code",
   "execution_count": 5,
   "id": "57c512d0",
   "metadata": {},
   "outputs": [],
   "source": [
    "cv2.imshow(\"original\",img)\n",
    "cv2.imshow(\"gray scale\",img_gray)\n",
    "cv2.waitKey(0)\n",
    "cv2.destroyAllWindows()"
   ]
  },
  {
   "cell_type": "code",
   "execution_count": 6,
   "id": "8a7f4594",
   "metadata": {},
   "outputs": [],
   "source": [
    "res,thresh1 = cv2.threshold(img_gray,15,150,cv2.THRESH_BINARY)\n",
    "res,thresh2 = cv2.threshold(img_gray,15,150,cv2.THRESH_BINARY_INV)\n",
    "res,thresh3 = cv2.threshold(img_gray,15,150,cv2.THRESH_TRUNC)\n",
    "res,thresh4 = cv2.threshold(img_gray,15,150,cv2.THRESH_TOZERO)\n",
    "res,thresh5 = cv2.threshold(img_gray,15,150,cv2.THRESH_TOZERO_INV)"
   ]
  },
  {
   "cell_type": "code",
   "execution_count": 7,
   "id": "fb03abd5",
   "metadata": {},
   "outputs": [],
   "source": [
    "cv2.imshow(\"i1\",thresh1)\n",
    "cv2.imshow(\"image2\",thresh2)\n",
    "cv2.imshow(\"image\",thresh3)\n",
    "cv2.imshow(\"image\",thresh4)\n",
    "\n",
    "\n",
    "cv2.waitKey(0)\n",
    "cv2.destroyAllWindows()"
   ]
  },
  {
   "cell_type": "markdown",
   "id": "3d3e78a5",
   "metadata": {},
   "source": [
    "# Thrseholding Adaptive"
   ]
  },
  {
   "cell_type": "code",
   "execution_count": 8,
   "id": "a74f04d6",
   "metadata": {},
   "outputs": [],
   "source": [
    "ret,th1 = cv2.threshold(img_gray,70,255,cv2.THRESH_BINARY)\n",
    "ath1 = cv2.adaptiveThreshold(img_gray,255,cv2.ADAPTIVE_THRESH_MEAN_C,cv2.THRESH_BINARY,11,2)\n",
    "ath2 = cv2.adaptiveThreshold(img_gray,255,cv2.ADAPTIVE_THRESH_GAUSSIAN_C,cv2.THRESH_BINARY,11,2)"
   ]
  },
  {
   "cell_type": "code",
   "execution_count": 9,
   "id": "dc464b5f",
   "metadata": {},
   "outputs": [],
   "source": [
    "cv2.imshow(\"GLOBAL\",th1)\n",
    "cv2.imshow(\"ADAPTIVE MEAN\",ath1)\n",
    "cv2.imshow(\"ADAPTIVE GAUSSIAN\",ath2)\n",
    "cv2.waitKey(0)\n",
    "cv2.destroyAllWindows()"
   ]
  },
  {
   "cell_type": "markdown",
   "id": "a9af0b84",
   "metadata": {},
   "source": [
    "# OTSU Thresh"
   ]
  },
  {
   "cell_type": "code",
   "execution_count": 10,
   "id": "5f192a91",
   "metadata": {},
   "outputs": [],
   "source": [
    "re,otsu = cv2.threshold(img_gray,80,255,cv2.THRESH_BINARY+cv2.THRESH_OTSU)"
   ]
  },
  {
   "cell_type": "code",
   "execution_count": 11,
   "id": "37495681",
   "metadata": {},
   "outputs": [],
   "source": [
    "cv2.imshow(\"otsu\",otsu)\n",
    "cv2.waitKey(0)\n",
    "cv2.destroyAllWindows()"
   ]
  },
  {
   "cell_type": "code",
   "execution_count": null,
   "id": "b427a42c",
   "metadata": {},
   "outputs": [],
   "source": []
  },
  {
   "cell_type": "code",
   "execution_count": null,
   "id": "2a411e4c",
   "metadata": {},
   "outputs": [],
   "source": []
  }
 ],
 "metadata": {
  "kernelspec": {
   "display_name": "Python 3 (ipykernel)",
   "language": "python",
   "name": "python3"
  },
  "language_info": {
   "codemirror_mode": {
    "name": "ipython",
    "version": 3
   },
   "file_extension": ".py",
   "mimetype": "text/x-python",
   "name": "python",
   "nbconvert_exporter": "python",
   "pygments_lexer": "ipython3",
   "version": "3.10.9"
  }
 },
 "nbformat": 4,
 "nbformat_minor": 5
}
