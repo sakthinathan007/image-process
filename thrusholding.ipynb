{
 "cells": [
  {
   "cell_type": "markdown",
   "id": "0e8117ce",
   "metadata": {},
   "source": [
    "# Thrusholding"
   ]
  },
  {
   "cell_type": "code",
   "execution_count": 1,
   "id": "7f7139f6",
   "metadata": {},
   "outputs": [],
   "source": [
    "import cv2\n",
    "import numpy as nu"
   ]
  },
  {
   "cell_type": "code",
   "execution_count": 2,
   "id": "7b24d982",
   "metadata": {},
   "outputs": [],
   "source": [
    "img = cv2.imread('OIP.jpg')"
   ]
  },
  {
   "cell_type": "code",
   "execution_count": 3,
   "id": "cbad7519",
   "metadata": {},
   "outputs": [
    {
     "data": {
      "text/plain": [
       "-1"
      ]
     },
     "execution_count": 3,
     "metadata": {},
     "output_type": "execute_result"
    }
   ],
   "source": [
    "cv2.imshow(\"original\",img)\n",
    "cv2.waitKey(0)"
   ]
  },
  {
   "cell_type": "code",
   "execution_count": 4,
   "id": "776746f2",
   "metadata": {},
   "outputs": [],
   "source": [
    "img_gray = cv2.cvtColor(img,cv2.COLOR_BGR2GRAY)"
   ]
  },
  {
   "cell_type": "code",
   "execution_count": 6,
   "id": "57c512d0",
   "metadata": {},
   "outputs": [
    {
     "data": {
      "text/plain": [
       "-1"
      ]
     },
     "execution_count": 6,
     "metadata": {},
     "output_type": "execute_result"
    }
   ],
   "source": [
    "cv2.imshow(\"original\",img)\n",
    "cv2.imshow(\"gray scale\",img_gray)\n",
    "cv2.waitKey(0)"
   ]
  },
  {
   "cell_type": "code",
   "execution_count": 12,
   "id": "8a7f4594",
   "metadata": {},
   "outputs": [],
   "source": [
    "res,thresh1 = cv2.threshold(img_gray,15,150,cv2.THRESH_BINARY)\n",
    "res,thresh2 = cv2.threshold(img_gray,15,150,cv2.THRESH_BINARY_INV)\n",
    "res,thresh3 = cv2.threshold(img_gray,15,150,cv2.THRESH_TRUNC)\n",
    "res,thresh4 = cv2.threshold(img_gray,15,150,cv2.THRESH_TOZERO)\n",
    "res,thresh5 = cv2.threshold(img_gray,15,150,cv2.THRESH_TOZERO_INV)"
   ]
  },
  {
   "cell_type": "code",
   "execution_count": null,
   "id": "fb03abd5",
   "metadata": {},
   "outputs": [],
   "source": []
  }
 ],
 "metadata": {
  "kernelspec": {
   "display_name": "Python 3 (ipykernel)",
   "language": "python",
   "name": "python3"
  },
  "language_info": {
   "codemirror_mode": {
    "name": "ipython",
    "version": 3
   },
   "file_extension": ".py",
   "mimetype": "text/x-python",
   "name": "python",
   "nbconvert_exporter": "python",
   "pygments_lexer": "ipython3",
   "version": "3.10.9"
  }
 },
 "nbformat": 4,
 "nbformat_minor": 5
}
