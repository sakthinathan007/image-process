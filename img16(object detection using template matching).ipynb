{
 "cells": [
  {
   "cell_type": "markdown",
   "id": "aaca483a",
   "metadata": {},
   "source": [
    "### object detection using template matching"
   ]
  },
  {
   "cell_type": "code",
   "execution_count": 1,
   "id": "47b03d21",
   "metadata": {},
   "outputs": [],
   "source": [
    "import cv2\n",
    "import numpy as np"
   ]
  },
  {
   "cell_type": "code",
   "execution_count": 9,
   "id": "b2678e8b",
   "metadata": {},
   "outputs": [],
   "source": [
    "img_rgb=cv2.imread(\"CSK.jpg\")\n",
    "img_gray=cv2.cvtColor(img_rgb,cv2.COLOR_BGR2GRAY)\n",
    "template=cv2.imread(\"CSK1.jpg\",0)"
   ]
  },
  {
   "cell_type": "code",
   "execution_count": 10,
   "id": "0a0a733f",
   "metadata": {},
   "outputs": [],
   "source": [
    "height,width=template.shape[::]\n",
    "\n",
    "match=cv2.matchTemplate(img_gray,template,cv2.TM_SQDIFF)\n",
    "\n",
    "min_val,max_val,min_loc,max_loc=cv2.minMaxLoc(match)\n",
    "\n",
    "top_left=min_loc\n",
    "\n",
    "bottom_right=(top_left[0]+width,top_left[1]+height)\n",
    "\n",
    "cv2.rectangle(img_rgb,top_left,bottom_right,(255,0,0),2)\n",
    "\n",
    "cv2.imshow(\"matched image\",img_rgb)\n",
    "cv2.waitKey()\n",
    "cv2.destroyAllWindows()"
   ]
  },
  {
   "cell_type": "code",
   "execution_count": null,
   "id": "229ec826",
   "metadata": {},
   "outputs": [],
   "source": []
  }
 ],
 "metadata": {
  "kernelspec": {
   "display_name": "Python 3 (ipykernel)",
   "language": "python",
   "name": "python3"
  },
  "language_info": {
   "codemirror_mode": {
    "name": "ipython",
    "version": 3
   },
   "file_extension": ".py",
   "mimetype": "text/x-python",
   "name": "python",
   "nbconvert_exporter": "python",
   "pygments_lexer": "ipython3",
   "version": "3.10.9"
  }
 },
 "nbformat": 4,
 "nbformat_minor": 5
}
