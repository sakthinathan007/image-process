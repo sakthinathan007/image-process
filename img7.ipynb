{
 "cells": [
  {
   "cell_type": "code",
   "execution_count": 1,
   "id": "76e56ed0",
   "metadata": {},
   "outputs": [],
   "source": [
    "import cv2\n",
    "import numpy as np"
   ]
  },
  {
   "cell_type": "markdown",
   "id": "8b8707ce",
   "metadata": {},
   "source": [
    "# Reading image"
   ]
  },
  {
   "cell_type": "code",
   "execution_count": 12,
   "id": "66b9c85e",
   "metadata": {},
   "outputs": [],
   "source": [
    "img=cv2.imread(\"AI-2.jpg\")"
   ]
  },
  {
   "cell_type": "markdown",
   "id": "876721c8",
   "metadata": {},
   "source": [
    "# structural element of kernel"
   ]
  },
  {
   "cell_type": "code",
   "execution_count": 13,
   "id": "63c0d87d",
   "metadata": {},
   "outputs": [],
   "source": [
    "kernal=np.ones((3,3),np.uint8)"
   ]
  },
  {
   "cell_type": "markdown",
   "id": "df69a7f0",
   "metadata": {},
   "source": [
    "# Erosion"
   ]
  },
  {
   "cell_type": "code",
   "execution_count": 14,
   "id": "96a3593d",
   "metadata": {},
   "outputs": [],
   "source": [
    "erosion=cv2.erode(img,kernal,iterations=7)"
   ]
  },
  {
   "cell_type": "markdown",
   "id": "62cd9138",
   "metadata": {},
   "source": [
    "# Display Erosion"
   ]
  },
  {
   "cell_type": "code",
   "execution_count": 15,
   "id": "6346daae",
   "metadata": {},
   "outputs": [
    {
     "data": {
      "text/plain": [
       "-1"
      ]
     },
     "execution_count": 15,
     "metadata": {},
     "output_type": "execute_result"
    }
   ],
   "source": [
    "cv2.imshow(\"original\",img)\n",
    "cv2.waitKey(0)\n",
    "cv2.imshow(\"erosion\",erosion)\n",
    "cv2.waitKey(0)"
   ]
  },
  {
   "cell_type": "markdown",
   "id": "78bb023d",
   "metadata": {},
   "source": [
    "# Dilation"
   ]
  },
  {
   "cell_type": "code",
   "execution_count": 17,
   "id": "2754d94f",
   "metadata": {},
   "outputs": [],
   "source": [
    "dilation=cv2.dilate(img,kernal,iterations=3)"
   ]
  },
  {
   "cell_type": "code",
   "execution_count": 18,
   "id": "306cf8e0",
   "metadata": {},
   "outputs": [
    {
     "data": {
      "text/plain": [
       "-1"
      ]
     },
     "execution_count": 18,
     "metadata": {},
     "output_type": "execute_result"
    }
   ],
   "source": [
    "cv2.imshow(\"original\",img)\n",
    "cv2.waitKey(0)\n",
    "cv2.imshow(\"dilation\",dilation)\n",
    "cv2.waitKey(0)"
   ]
  },
  {
   "cell_type": "markdown",
   "id": "efb31b78",
   "metadata": {},
   "source": [
    "# Morpological image"
   ]
  },
  {
   "cell_type": "code",
   "execution_count": null,
   "id": "e166e3e6",
   "metadata": {},
   "outputs": [],
   "source": []
  }
 ],
 "metadata": {
  "kernelspec": {
   "display_name": "Python 3 (ipykernel)",
   "language": "python",
   "name": "python3"
  },
  "language_info": {
   "codemirror_mode": {
    "name": "ipython",
    "version": 3
   },
   "file_extension": ".py",
   "mimetype": "text/x-python",
   "name": "python",
   "nbconvert_exporter": "python",
   "pygments_lexer": "ipython3",
   "version": "3.10.9"
  }
 },
 "nbformat": 4,
 "nbformat_minor": 5
}
