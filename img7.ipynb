{
 "cells": [
  {
   "cell_type": "code",
   "execution_count": 1,
   "id": "76e56ed0",
   "metadata": {},
   "outputs": [],
   "source": [
    "import cv2\n",
    "import numpy as np"
   ]
  },
  {
   "cell_type": "markdown",
   "id": "8b8707ce",
   "metadata": {},
   "source": [
    "# Reading image"
   ]
  },
  {
   "cell_type": "code",
   "execution_count": 2,
   "id": "66b9c85e",
   "metadata": {},
   "outputs": [],
   "source": [
    "img=cv2.imread(\"download (1).jpg\")"
   ]
  },
  {
   "cell_type": "markdown",
   "id": "876721c8",
   "metadata": {},
   "source": [
    "# structural element of kernel"
   ]
  },
  {
   "cell_type": "code",
   "execution_count": 3,
   "id": "63c0d87d",
   "metadata": {},
   "outputs": [],
   "source": [
    "kernal=np.ones((3,3),np.uint8)"
   ]
  },
  {
   "cell_type": "markdown",
   "id": "df69a7f0",
   "metadata": {},
   "source": [
    "# Erosion"
   ]
  },
  {
   "cell_type": "code",
   "execution_count": 4,
   "id": "96a3593d",
   "metadata": {},
   "outputs": [],
   "source": [
    "erosion=cv2.erode(img,kernal,iterations=7)"
   ]
  },
  {
   "cell_type": "markdown",
   "id": "62cd9138",
   "metadata": {},
   "source": [
    "# Display Erosion"
   ]
  },
  {
   "cell_type": "code",
   "execution_count": 5,
   "id": "6346daae",
   "metadata": {},
   "outputs": [
    {
     "data": {
      "text/plain": [
       "-1"
      ]
     },
     "execution_count": 5,
     "metadata": {},
     "output_type": "execute_result"
    }
   ],
   "source": [
    "cv2.imshow(\"original\",img)\n",
    "cv2.waitKey(0)\n",
    "cv2.imshow(\"erosion\",erosion)\n",
    "cv2.waitKey(0)"
   ]
  },
  {
   "cell_type": "markdown",
   "id": "89d1d541",
   "metadata": {},
   "source": [
    "# Dilation"
   ]
  },
  {
   "cell_type": "code",
   "execution_count": 6,
   "id": "2754d94f",
   "metadata": {},
   "outputs": [],
   "source": [
    "dilation=cv2.dilate(img,kernal,iterations=3)"
   ]
  },
  {
   "cell_type": "code",
   "execution_count": 7,
   "id": "306cf8e0",
   "metadata": {},
   "outputs": [
    {
     "data": {
      "text/plain": [
       "-1"
      ]
     },
     "execution_count": 7,
     "metadata": {},
     "output_type": "execute_result"
    }
   ],
   "source": [
    "cv2.imshow(\"original\",img)\n",
    "cv2.waitKey(0)\n",
    "cv2.imshow(\"dilation\",dilation)\n",
    "cv2.waitKey(0)"
   ]
  },
  {
   "cell_type": "markdown",
   "id": "efb31b78",
   "metadata": {},
   "source": [
    "# Morpological opening image-erosion followed by dilation"
   ]
  },
  {
   "cell_type": "code",
   "execution_count": 8,
   "id": "9c9963d5",
   "metadata": {},
   "outputs": [],
   "source": [
    "close = cv2.morphologyEx(img, cv2.MORPH_CLOSE, kernal)"
   ]
  },
  {
   "cell_type": "code",
   "execution_count": 9,
   "id": "e166e3e6",
   "metadata": {},
   "outputs": [],
   "source": [
    "open = cv2.morphologyEx(img, cv2.MORPH_OPEN, kernal)"
   ]
  },
  {
   "cell_type": "code",
   "execution_count": 10,
   "id": "9978329c",
   "metadata": {},
   "outputs": [
    {
     "data": {
      "text/plain": [
       "-1"
      ]
     },
     "execution_count": 10,
     "metadata": {},
     "output_type": "execute_result"
    }
   ],
   "source": [
    "cv2.imshow(\"original\",img)\n",
    "cv2.waitKey(0)\n",
    "cv2.imshow(\"MORPH OPEN\",open)\n",
    "cv2.waitKey(0)"
   ]
  },
  {
   "cell_type": "code",
   "execution_count": 11,
   "id": "847e4d4e",
   "metadata": {},
   "outputs": [
    {
     "data": {
      "text/plain": [
       "-1"
      ]
     },
     "execution_count": 11,
     "metadata": {},
     "output_type": "execute_result"
    }
   ],
   "source": [
    "cv2.imshow(\"original\",img)\n",
    "cv2.waitKey(0)\n",
    "cv2.imshow(\"MORPH OPEN\",open)\n",
    "cv2.waitKey(0)\n",
    "cv2.imshow(\"MORPH CLOSE\",open)\n",
    "cv2.waitKey(0)"
   ]
  },
  {
   "cell_type": "markdown",
   "id": "8b6d3b0a",
   "metadata": {},
   "source": [
    "# Morphological Graident - errotion,dilation difference of both "
   ]
  },
  {
   "cell_type": "code",
   "execution_count": 13,
   "id": "a831f55a",
   "metadata": {},
   "outputs": [],
   "source": [
    "gradient = cv2.morphologyEx(img, cv2.MORPH_GRADIENT, kernal)"
   ]
  },
  {
   "cell_type": "code",
   "execution_count": 15,
   "id": "f925deb1",
   "metadata": {},
   "outputs": [
    {
     "data": {
      "text/plain": [
       "-1"
      ]
     },
     "execution_count": 15,
     "metadata": {},
     "output_type": "execute_result"
    }
   ],
   "source": [
    "cv2.imshow(\"original\",img)\n",
    "cv2.waitKey(0)\n",
    "cv2.imshow(\"MORPH GRAIENT\",gradient)\n",
    "cv2.waitKey(0)"
   ]
  },
  {
   "cell_type": "markdown",
   "id": "3e28deed",
   "metadata": {},
   "source": [
    "# Top Hat - opening and diff. of oringial and opening"
   ]
  },
  {
   "cell_type": "code",
   "execution_count": 17,
   "id": "18ec2ed1",
   "metadata": {},
   "outputs": [],
   "source": [
    "tophat = cv2.morphologyEx(img, cv2.MORPH_TOPHAT, kernal)"
   ]
  },
  {
   "cell_type": "code",
   "execution_count": 18,
   "id": "25637f97",
   "metadata": {},
   "outputs": [
    {
     "data": {
      "text/plain": [
       "-1"
      ]
     },
     "execution_count": 18,
     "metadata": {},
     "output_type": "execute_result"
    }
   ],
   "source": [
    "cv2.imshow(\"original\",img)\n",
    "cv2.waitKey(0)\n",
    "cv2.imshow(\"MORPH TOPHAT\",tophat)\n",
    "cv2.waitKey(0)"
   ]
  },
  {
   "cell_type": "markdown",
   "id": "f9aa4895",
   "metadata": {},
   "source": [
    "# Black Hat - opp of tap hat"
   ]
  },
  {
   "cell_type": "code",
   "execution_count": 19,
   "id": "5b19c9e2",
   "metadata": {},
   "outputs": [],
   "source": [
    "blackhat = cv2.morphologyEx(img, cv2.MORPH_BLACKHAT, kernal)"
   ]
  },
  {
   "cell_type": "code",
   "execution_count": 21,
   "id": "39a7864a",
   "metadata": {},
   "outputs": [
    {
     "data": {
      "text/plain": [
       "-1"
      ]
     },
     "execution_count": 21,
     "metadata": {},
     "output_type": "execute_result"
    }
   ],
   "source": [
    "cv2.imshow(\"original\",img)\n",
    "cv2.waitKey(0)\n",
    "cv2.imshow(\"MORPH BLACKHAT\",blackhat)\n",
    "cv2.waitKey(0)"
   ]
  },
  {
   "cell_type": "code",
   "execution_count": null,
   "id": "d57ddad1",
   "metadata": {},
   "outputs": [],
   "source": []
  },
  {
   "cell_type": "code",
   "execution_count": null,
   "id": "eee5e8ad",
   "metadata": {},
   "outputs": [],
   "source": []
  }
 ],
 "metadata": {
  "kernelspec": {
   "display_name": "Python 3 (ipykernel)",
   "language": "python",
   "name": "python3"
  },
  "language_info": {
   "codemirror_mode": {
    "name": "ipython",
    "version": 3
   },
   "file_extension": ".py",
   "mimetype": "text/x-python",
   "name": "python",
   "nbconvert_exporter": "python",
   "pygments_lexer": "ipython3",
   "version": "3.10.9"
  }
 },
 "nbformat": 4,
 "nbformat_minor": 5
}
