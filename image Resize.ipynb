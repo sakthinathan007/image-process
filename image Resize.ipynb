{
 "cells": [
  {
   "cell_type": "code",
   "execution_count": 1,
   "id": "7b9cf1d8",
   "metadata": {},
   "outputs": [
    {
     "name": "stdout",
     "output_type": "stream",
     "text": [
      "Requirement already satisfied: opencv-python in c:\\programdata\\anaconda3\\envs\\sakthi_cse_ai\\lib\\site-packages (4.7.0.68)Note: you may need to restart the kernel to use updated packages.\n",
      "\n",
      "Requirement already satisfied: numpy>=1.21.2 in c:\\programdata\\anaconda3\\envs\\sakthi_cse_ai\\lib\\site-packages (from opencv-python) (1.24.2)\n"
     ]
    }
   ],
   "source": [
    "pip install opencv-python"
   ]
  },
  {
   "cell_type": "code",
   "execution_count": 2,
   "id": "bf2df031",
   "metadata": {},
   "outputs": [],
   "source": [
    "import cv2\n",
    "import numpy as nump"
   ]
  },
  {
   "cell_type": "code",
   "execution_count": 3,
   "id": "a54f4261",
   "metadata": {},
   "outputs": [],
   "source": [
    "flags=[i for i in dir(cv2) if i.startswith('COLOR_RGB2')]"
   ]
  },
  {
   "cell_type": "code",
   "execution_count": 4,
   "id": "cfa5d43e",
   "metadata": {},
   "outputs": [
    {
     "name": "stdout",
     "output_type": "stream",
     "text": [
      "['COLOR_RGB2BGR', 'COLOR_RGB2BGR555', 'COLOR_RGB2BGR565', 'COLOR_RGB2BGRA', 'COLOR_RGB2GRAY', 'COLOR_RGB2HLS', 'COLOR_RGB2HLS_FULL', 'COLOR_RGB2HSV', 'COLOR_RGB2HSV_FULL', 'COLOR_RGB2LAB', 'COLOR_RGB2LUV', 'COLOR_RGB2Lab', 'COLOR_RGB2Luv', 'COLOR_RGB2RGBA', 'COLOR_RGB2XYZ', 'COLOR_RGB2YCR_CB', 'COLOR_RGB2YCrCb', 'COLOR_RGB2YUV', 'COLOR_RGB2YUV_I420', 'COLOR_RGB2YUV_IYUV', 'COLOR_RGB2YUV_YV12']\n"
     ]
    }
   ],
   "source": [
    "print(flags)"
   ]
  },
  {
   "cell_type": "markdown",
   "id": "8296c20e",
   "metadata": {},
   "source": [
    "# reading image"
   ]
  },
  {
   "cell_type": "code",
   "execution_count": 5,
   "id": "c79df33a",
   "metadata": {},
   "outputs": [],
   "source": [
    "img=cv2.imread(\"OIP.jpeg\")"
   ]
  },
  {
   "cell_type": "code",
   "execution_count": 6,
   "id": "c16b11d0",
   "metadata": {},
   "outputs": [
    {
     "data": {
      "text/plain": [
       "-1"
      ]
     },
     "execution_count": 6,
     "metadata": {},
     "output_type": "execute_result"
    }
   ],
   "source": [
    "cv2.imshow(\"img\",img)\n",
    "cv2.waitKey(0)"
   ]
  },
  {
   "cell_type": "code",
   "execution_count": 7,
   "id": "6c878eb3",
   "metadata": {},
   "outputs": [],
   "source": [
    "img2=cv2.cvtColor(img,cv2.COLOR_RGB2LAB)"
   ]
  },
  {
   "cell_type": "code",
   "execution_count": 8,
   "id": "0c4c50f3",
   "metadata": {},
   "outputs": [
    {
     "data": {
      "text/plain": [
       "-1"
      ]
     },
     "execution_count": 8,
     "metadata": {},
     "output_type": "execute_result"
    }
   ],
   "source": [
    "cv2.imshow(\"img\",img2)\n",
    "cv2.waitKey(0)"
   ]
  },
  {
   "cell_type": "markdown",
   "id": "b4cc223f",
   "metadata": {},
   "source": [
    "# image resize\n"
   ]
  },
  {
   "cell_type": "code",
   "execution_count": 9,
   "id": "7f991c6b",
   "metadata": {},
   "outputs": [
    {
     "name": "stdout",
     "output_type": "stream",
     "text": [
      "(180, 252, 3)\n"
     ]
    }
   ],
   "source": [
    "print(img.shape)"
   ]
  },
  {
   "cell_type": "code",
   "execution_count": 10,
   "id": "225b6988",
   "metadata": {},
   "outputs": [],
   "source": [
    "img_res=cv2.resize(img,None,fx=2,fy=2, interpolation = cv2.INTER_LINEAR)"
   ]
  },
  {
   "cell_type": "code",
   "execution_count": 11,
   "id": "c9a8d794",
   "metadata": {},
   "outputs": [
    {
     "data": {
      "text/plain": [
       "-1"
      ]
     },
     "execution_count": 11,
     "metadata": {},
     "output_type": "execute_result"
    }
   ],
   "source": [
    "cv2.imshow(\"img_res\",img_res)\n",
    "cv2.waitKey(0)"
   ]
  },
  {
   "cell_type": "markdown",
   "id": "75939d96",
   "metadata": {},
   "source": [
    "# RESIZING INTERPOLATION METHOD\n",
    "1.cv2INTER_CUBIC\n",
    "\n",
    "2.cv2INTER_AREA\n",
    "\n",
    "# ANOTHER WAY OF RESIZING"
   ]
  },
  {
   "cell_type": "code",
   "execution_count": 12,
   "id": "a4169809",
   "metadata": {},
   "outputs": [],
   "source": [
    "img_res=cv2.resize(img,(700,700))"
   ]
  },
  {
   "cell_type": "code",
   "execution_count": 13,
   "id": "e7c90153",
   "metadata": {},
   "outputs": [
    {
     "data": {
      "text/plain": [
       "-1"
      ]
     },
     "execution_count": 13,
     "metadata": {},
     "output_type": "execute_result"
    }
   ],
   "source": [
    "cv2.imshow(\"img_res\",img_res)\n",
    "cv2.waitKey(0)"
   ]
  },
  {
   "cell_type": "markdown",
   "id": "41797697",
   "metadata": {},
   "source": [
    "# IMAGE BLIURING"
   ]
  },
  {
   "cell_type": "code",
   "execution_count": 14,
   "id": "acb9d053",
   "metadata": {},
   "outputs": [],
   "source": [
    "img=nump.ones((7,7),float)/49"
   ]
  },
  {
   "cell_type": "code",
   "execution_count": 15,
   "id": "d26c30c2",
   "metadata": {},
   "outputs": [],
   "source": [
    "tdf=cv2.filter2D(img_res,-100,img)"
   ]
  },
  {
   "cell_type": "code",
   "execution_count": 16,
   "id": "702dd05f",
   "metadata": {},
   "outputs": [
    {
     "data": {
      "text/plain": [
       "-1"
      ]
     },
     "execution_count": 16,
     "metadata": {},
     "output_type": "execute_result"
    }
   ],
   "source": [
    "cv2.imshow(\"img_res\",img_res)\n",
    "cv2.waitKey(0)\n",
    "cv2.imshow(\"img_res\",tdf)\n",
    "cv2.waitKey(0)"
   ]
  },
  {
   "cell_type": "markdown",
   "id": "76412a6f",
   "metadata": {},
   "source": [
    "# IMAGE BLUR-AVERAGE"
   ]
  },
  {
   "cell_type": "code",
   "execution_count": 17,
   "id": "d275bc72",
   "metadata": {},
   "outputs": [],
   "source": [
    "avg=cv2.blur(img_res,(5,5))"
   ]
  },
  {
   "cell_type": "code",
   "execution_count": 18,
   "id": "6fd7388f",
   "metadata": {},
   "outputs": [
    {
     "data": {
      "text/plain": [
       "-1"
      ]
     },
     "execution_count": 18,
     "metadata": {},
     "output_type": "execute_result"
    }
   ],
   "source": [
    "cv2.imshow(\"img_res\",img_res)\n",
    "cv2.waitKey(0)\n",
    "cv2.imshow(\"img_res\",tdf)\n",
    "cv2.waitKey(0)"
   ]
  },
  {
   "cell_type": "markdown",
   "id": "abfa23ec",
   "metadata": {},
   "source": [
    "# IMAGE BLUR-GAUSSIAN FILTER"
   ]
  },
  {
   "cell_type": "markdown",
   "id": "c853d0f2",
   "metadata": {},
   "source": []
  }
 ],
 "metadata": {
  "kernelspec": {
   "display_name": "Python 3 (ipykernel)",
   "language": "python",
   "name": "python3"
  },
  "language_info": {
   "codemirror_mode": {
    "name": "ipython",
    "version": 3
   },
   "file_extension": ".py",
   "mimetype": "text/x-python",
   "name": "python",
   "nbconvert_exporter": "python",
   "pygments_lexer": "ipython3",
   "version": "3.10.9"
  }
 },
 "nbformat": 4,
 "nbformat_minor": 5
}
