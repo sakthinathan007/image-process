{
 "cells": [
  {
   "cell_type": "code",
   "execution_count": null,
   "id": "61f7eec6",
   "metadata": {},
   "outputs": [],
   "source": [
    "pip install matplotlib"
   ]
  },
  {
   "cell_type": "code",
   "execution_count": 1,
   "id": "4d027fbd",
   "metadata": {},
   "outputs": [],
   "source": [
    "import cv2\n",
    "import numpy as np\n",
    "from matplotlib import pyplot as plt"
   ]
  },
  {
   "cell_type": "code",
   "execution_count": 6,
   "id": "c9db30c2",
   "metadata": {},
   "outputs": [],
   "source": [
    "img = cv2.imread(\"img_2.jpg\")"
   ]
  },
  {
   "cell_type": "markdown",
   "id": "91e4ef2e",
   "metadata": {},
   "source": [
    "## Canny Edge"
   ]
  },
  {
   "cell_type": "code",
   "execution_count": 7,
   "id": "d932e2ce",
   "metadata": {},
   "outputs": [],
   "source": [
    "canny = cv2.Canny(img,500,800)"
   ]
  },
  {
   "cell_type": "code",
   "execution_count": 8,
   "id": "50b8ecd8",
   "metadata": {},
   "outputs": [],
   "source": [
    "cv2.imshow(\"original\",img)\n",
    "cv2.imshow(\"canny edge\",canny)\n",
    "cv2.waitKey(0)\n",
    "cv2.destroyAllWindows()"
   ]
  },
  {
   "cell_type": "code",
   "execution_count": 38,
   "id": "3cceb780",
   "metadata": {},
   "outputs": [],
   "source": [
    "vid = cv2.VideoCapture(\"videoplayback.mp4\")"
   ]
  },
  {
   "cell_type": "code",
   "execution_count": 39,
   "id": "ff43ea68",
   "metadata": {},
   "outputs": [],
   "source": [
    "while(1):\n",
    "    ret, frame = vid.read()\n",
    "    \n",
    "    frame = cv2.cvtColor(frame, cv2.COLOR_BGR2GRAY)\n",
    "    \n",
    "    cv2.imshow('original',frame)\n",
    "    \n",
    "    edges = cv2.Canny(frame,100,200)\n",
    "    \n",
    "    cv2.imshow('Edges',edges)\n",
    "    if cv2.waitKey(5)&0xFF == ord(\"q\"):\n",
    "    \n",
    "        break\n",
    "vid.release()\n",
    "cv2.destroyAllWindows()"
   ]
  },
  {
   "cell_type": "code",
   "execution_count": null,
   "id": "1e0f0df8",
   "metadata": {},
   "outputs": [],
   "source": []
  }
 ],
 "metadata": {
  "kernelspec": {
   "display_name": "Python 3 (ipykernel)",
   "language": "python",
   "name": "python3"
  },
  "language_info": {
   "codemirror_mode": {
    "name": "ipython",
    "version": 3
   },
   "file_extension": ".py",
   "mimetype": "text/x-python",
   "name": "python",
   "nbconvert_exporter": "python",
   "pygments_lexer": "ipython3",
   "version": "3.10.9"
  }
 },
 "nbformat": 4,
 "nbformat_minor": 5
}
